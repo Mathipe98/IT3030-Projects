{
 "cells": [
  {
   "cell_type": "code",
   "execution_count": 13,
   "metadata": {},
   "outputs": [
    {
     "data": {
      "text/plain": [
       "array([[1, 2, 3, 4, 5]])"
      ]
     },
     "execution_count": 13,
     "metadata": {},
     "output_type": "execute_result"
    }
   ],
   "source": [
    "import numpy as np\n",
    "import math\n",
    "\n",
    "a = [1, 2, 3, 4, 5]\n",
    "b = np.array([np.array(a)])\n",
    "\n",
    "b"
   ]
  },
  {
   "cell_type": "code",
   "execution_count": 19,
   "metadata": {},
   "outputs": [
    {
     "name": "stdout",
     "output_type": "stream",
     "text": [
      "[[1 2 3]\n",
      " [4 5 6]\n",
      " [7 8 9]]\n"
     ]
    },
    {
     "data": {
      "text/plain": [
       "(3, 3)"
      ]
     },
     "execution_count": 19,
     "metadata": {},
     "output_type": "execute_result"
    }
   ],
   "source": [
    "array_3x3 = np.array([[1,2,3],[4,5,6],[7,8,9]])\n",
    "print(array_3x3)\n",
    "array_3x3.shape"
   ]
  },
  {
   "cell_type": "code",
   "execution_count": 20,
   "metadata": {},
   "outputs": [
    {
     "name": "stdout",
     "output_type": "stream",
     "text": [
      "[[1 2 3]\n",
      " [4 5 6]\n",
      " [7 8 9]]\n"
     ]
    },
    {
     "data": {
      "text/plain": [
       "(3, 3)"
      ]
     },
     "execution_count": 20,
     "metadata": {},
     "output_type": "execute_result"
    }
   ],
   "source": [
    "# The shape of a Numpy-array tells us, in essence, how many ROWS (FIRST) and COLUMNS (SECOND) a given array has.\n",
    "# Note that if we make an array that has lists that don't match shapes, for example a list containing 3 other\n",
    "# lists that have lengths 3, 3, and 2, then we will simply get an array with shape (3,), i.e. a list of length\n",
    "# 3. This is because Numpy then treats it as an object, rather than a matrix.\n",
    "# However if we then actually have an array of 3 lists, all of which have length 3, then the shape becomes (3, 3)\n",
    "# Let's now try to create a matrix in numpy that looks like the following:\n",
    "\n",
    "#     [[1, 2, 3],\n",
    "#      [4, 5, 6],\n",
    "#      [7, 8, 9]]\n",
    "\n",
    "list1 = np.array([1, 2, 3])\n",
    "list2 = np.array([4, 5, 6])\n",
    "list3 = np.array([7, 8, 9])\n",
    "\n",
    "res = np.array([list1, list2, list3])\n",
    "print(res)\n",
    "res.shape"
   ]
  },
  {
   "cell_type": "code",
   "execution_count": 34,
   "metadata": {},
   "outputs": [
    {
     "name": "stdout",
     "output_type": "stream",
     "text": [
      "[[1 2 3 4 5 6 7 8 9]]\n",
      "[1 2 3 4 5 6 7 8 9]\n",
      "[[ 1  2  3  4]\n",
      " [ 5  6  7  8]\n",
      " [ 9 10 11 12]\n",
      " [13 14 15 16]]\n",
      "[[ 1  2  3  4  5  6  7  8]\n",
      " [ 9 10 11 12 13 14 15 16]]\n",
      "[[ 1  2]\n",
      " [ 3  4]\n",
      " [ 5  6]\n",
      " [ 7  8]\n",
      " [ 9 10]\n",
      " [11 12]\n",
      " [13 14]\n",
      " [15 16]]\n",
      "[[ 1]\n",
      " [ 2]\n",
      " [ 3]\n",
      " [ 4]\n",
      " [ 5]\n",
      " [ 6]\n",
      " [ 7]\n",
      " [ 8]\n",
      " [ 9]\n",
      " [10]\n",
      " [11]\n",
      " [12]\n",
      " [13]\n",
      " [14]\n",
      " [15]\n",
      " [16]]\n"
     ]
    }
   ],
   "source": [
    "# Now let's test reshaping this array. I will comment what I want the result to be, and then try to make it\n",
    "# I want the 3x3 matrix to become a single row, i.e. 1D array. I will try to use reshape to do this\n",
    "new_array_1d = res.reshape(1,-1)\n",
    "print(new_array_1d)\n",
    "\n",
    "# Turns out, in order to make 2D into 1D, we gotta use flatten\n",
    "flattened = new_array_1d.flatten()\n",
    "print(flattened)\n",
    "\n",
    "# Now I'm gonna create a 4x4 matrix\n",
    "new_4x4 = np.array([[1, 2, 3, 4], [5, 6, 7, 8], [9, 10, 11, 12], [13, 14, 15 ,16]])\n",
    "print(new_4x4)\n",
    "\n",
    "# Now I want another matrix that has 2 rows and 8 columns\n",
    "new_2x8 = new_4x4.reshape(2, 8)\n",
    "print(new_2x8)\n",
    "\n",
    "# Now let's take the above matrix, and instead make 8 rows with 2 columns. I want to have [[1,2], [3,4], [5,6], ..]\n",
    "new_8x2 = new_2x8.reshape(8, 2)\n",
    "print(new_8x2)\n",
    "\n",
    "# Now just for fun let me have 1 column with 16 rows\n",
    "many_16_rows = new_8x2.reshape(16, -1)\n",
    "print(many_16_rows)"
   ]
  },
  {
   "cell_type": "code",
   "execution_count": 35,
   "metadata": {},
   "outputs": [
    {
     "name": "stdout",
     "output_type": "stream",
     "text": [
      "      a = \n",
      " [[0 1 2]\n",
      " [3 4 5]]\n",
      "      b = \n",
      " [[1 1 1 1 1]\n",
      " [1 1 1 1 1]\n",
      " [1 1 1 1 1]]\n",
      "v.shape =  (5,)\n",
      "    v = \n",
      " [0.06980912 0.16253915 0.88778721 0.1657454  0.19689067]\n",
      "   u * v = \n",
      "  18.67881823408044\n",
      "b * v = \n",
      " [1.48277156 1.48277156 1.48277156]\n",
      " v * bT = \n",
      " [1.48277156 1.48277156 1.48277156]\n"
     ]
    }
   ],
   "source": [
    "a = np.array(range(6)).reshape(2,3)\n",
    "print('      a = \\n', a)\n",
    "b = np.array([1]*15).reshape(3,5)\n",
    "print('      b = \\n', b)\n",
    "v = np.random.uniform(0,1,5)  # v looks like a column vector, since dims = (5,)\n",
    "print('v.shape = ', v.shape)\n",
    "print('    v = \\n', v)  # But numpy prints it as a row vector.  It can be either, depending upon the context.\n",
    "u = np.random.uniform(10,20,5)\n",
    "print('   u * v = \\n ', np.dot(u,v))\n",
    "print('b * v = \\n', np.dot(b,v))  # Here, numpy treats v as a column vector\n",
    "print(' v * bT = \\n', np.dot(v,np.transpose(b)))  # Here, nump treats v as a row vector."
   ]
  },
  {
   "cell_type": "markdown",
   "metadata": {},
   "source": [
    "In numpy, np.matmul and np.dot are very similar, but they handle \"broadcasting\" (i.e. duplicating sections\n",
    "in order to make array-combination operators work) differently.  np.einsum is more complex, and more \n",
    "low-level, but it's a superset of matmul, dot and many other numpy array operations.\n",
    "\n",
    "The first argument to einsum is the subscript string, for example 'ij,j->i' in the code below.  \n",
    "This shows how the one or two arrays (i.e. operands) on the left of the arrow \n",
    "will be converted into the array on the right \n",
    "of the arrow.  When the same letter appears in both operands (e.g. 'j' in 'ij,j->i'), this means that\n",
    "corresponding elements in the two vectors (columns in operand 1, rows in operand 2) will be multiplied\n",
    "together.  Then, the ABSENCE of that same letter on the right-hand-side of the subscript string indicates\n",
    "that those products will be summed.  So together, the repeat letter plus its absence on the right is \n",
    "einsum code for a dot product."
   ]
  },
  {
   "cell_type": "code",
   "execution_count": 2,
   "metadata": {},
   "outputs": [
    {
     "name": "stdout",
     "output_type": "stream",
     "text": [
      "[2.88813492 2.88813492 2.88813492]\n",
      "[2.88813492 2.88813492 2.88813492]\n",
      "[2.88813492 2.88813492 2.88813492]\n",
      "  einsum pairwise multiply =  [11.21656195 12.65856963  1.45309149 14.10061477  9.47420993]\n",
      "   einsum dot product = 48.90304777724347\n",
      "   a * b = \n",
      " [[ 3  3  3  3  3]\n",
      " [12 12 12 12 12]]\n"
     ]
    }
   ],
   "source": [
    "print(np.matmul(b,v))\n",
    "print(np.dot(b,v))  # np.dot does matrix multiplications, not just dot products.\n",
    "print(np.einsum('ij,j->i',b,v))  # Einsum does this and MUCH more\n",
    "print('  einsum pairwise multiply = ',np.einsum('i,i->i',u,v))\n",
    "print('   einsum dot product =', np.einsum('i,i',u,v))  # simple dot product with einsum\n",
    "print('   a * b = \\n', np.dot(a,b))"
   ]
  },
  {
   "cell_type": "markdown",
   "metadata": {},
   "source": [
    "Einsum can be used to sum along one or more axes of an array.  In the notation 'ijk->ij', the absence of\n",
    "the k on the right-hand-side of the arrow means that that dimension shall be summed over."
   ]
  },
  {
   "cell_type": "code",
   "execution_count": 40,
   "metadata": {},
   "outputs": [
    {
     "name": "stdout",
     "output_type": "stream",
     "text": [
      "[5 5 5]\n",
      "[3 3 3 3 3]\n",
      "m: [[[ 0  1  2  3]\n",
      "  [ 4  5  6  7]\n",
      "  [ 8  9 10 11]]\n",
      "\n",
      " [[12 13 14 15]\n",
      "  [16 17 18 19]\n",
      "  [20 21 22 23]]]\n",
      "Test 1: [[ 6 22 38]\n",
      " [54 70 86]]\n"
     ]
    }
   ],
   "source": [
    "print(np.einsum('ij->i',b))  # Sum the rows, preserving number of rows (i) but reducing # dimensions by 1.\n",
    "print(np.einsum('ij->j',b))  # Sum the columns, preserving number of columns (j) but reducing # dimensions by 1.\n",
    "m = np.array(range(24)).reshape(2,3,4)  # m = a 3-d array\n",
    "print(f\"m: {m}\")\n",
    "test_ein_1 = np.einsum('ijk->ij', m)\n",
    "print(f\"Test 1: {test_ein_1}\")\n",
    "# print('\\n', np.einsum('ijk->ik',m)) # sum over 2nd dim, retaining 1st and 3rd dimensions\n",
    "# print('\\n', np.einsum('ijk->k',m)) # sum over 1st and 2nd dimensions, leaving a vector of size k.\n",
    "# print('\\n', np.einsum('ijk->',m)) # sum the entire array\n",
    "# print('\\n', np.einsum('ijk',m)) # This just returns the array, unaltered."
   ]
  },
  {
   "cell_type": "markdown",
   "metadata": {},
   "source": [
    "Einsum can be used to pick out a diagonal of a matrix (as with np.diag) or to SUM the elements of a diagonal\n",
    "(as with np.trace)."
   ]
  },
  {
   "cell_type": "code",
   "execution_count": 4,
   "metadata": {},
   "outputs": [
    {
     "name": "stdout",
     "output_type": "stream",
     "text": [
      "z = \n",
      " [[ 0  1  2  3  4]\n",
      " [ 5  6  7  8  9]\n",
      " [10 11 12 13 14]\n",
      " [15 16 17 18 19]\n",
      " [20 21 22 23 24]] \n",
      "\n",
      "Diagonal(z) =  [ 0  6 12 18 24]\n",
      "Trace(z) =  60\n",
      "Diagonal and Trace using Einsum: \n",
      "[ 0  6 12 18 24]\n",
      "60\n"
     ]
    }
   ],
   "source": [
    "z = np.array(range(25)).reshape(5,5)\n",
    "print('z = \\n', z, '\\n')\n",
    "print('Diagonal(z) = ', np.diag(z))  # Pick out the main diagonal of this square matrix\n",
    "print('Trace(z) = ', np.trace(z))    # Sum the main diagonal\n",
    "print('Diagonal and Trace using Einsum: ')\n",
    "print(np.einsum('ii->i',z))  # Return the diagonal\n",
    "print(np.einsum('ii->',z))  # sum the diagonal == trace"
   ]
  },
  {
   "cell_type": "markdown",
   "metadata": {},
   "source": [
    "You can use np.diag to CONSTRUCT a diagonal matrix also.  Just send it a vector."
   ]
  },
  {
   "cell_type": "code",
   "execution_count": 5,
   "metadata": {},
   "outputs": [
    {
     "name": "stdout",
     "output_type": "stream",
     "text": [
      "[[1 0 0 0]\n",
      " [0 2 0 0]\n",
      " [0 0 3 0]\n",
      " [0 0 0 4]]\n",
      "[[ 0  0  0  0  0]\n",
      " [ 0  6  0  0  0]\n",
      " [ 0  0 12  0  0]\n",
      " [ 0  0  0 18  0]\n",
      " [ 0  0  0  0 24]]\n"
     ]
    }
   ],
   "source": [
    "print(np.diag([1,2,3,4]))\n",
    "print(np.diag(np.diag(z)))"
   ]
  },
  {
   "cell_type": "markdown",
   "metadata": {},
   "source": [
    "Transposing a matrix using einsum instead of np.transpose"
   ]
  },
  {
   "cell_type": "code",
   "execution_count": 6,
   "metadata": {},
   "outputs": [
    {
     "name": "stdout",
     "output_type": "stream",
     "text": [
      "[[ 0  5 10 15 20]\n",
      " [ 1  6 11 16 21]\n",
      " [ 2  7 12 17 22]\n",
      " [ 3  8 13 18 23]\n",
      " [ 4  9 14 19 24]]\n"
     ]
    }
   ],
   "source": [
    "print(np.einsum('ij->ji',z))"
   ]
  },
  {
   "cell_type": "markdown",
   "metadata": {},
   "source": [
    "The outer product of two vectors, as with np.outer, can also be done with einsum"
   ]
  },
  {
   "cell_type": "code",
   "execution_count": 7,
   "metadata": {},
   "outputs": [
    {
     "name": "stdout",
     "output_type": "stream",
     "text": [
      "u =  [0 1 2 3 4]  v =  [  0 100 200 300 400]\n",
      "Using outer: \n",
      " [[   0    0    0    0    0]\n",
      " [   0  100  200  300  400]\n",
      " [   0  200  400  600  800]\n",
      " [   0  300  600  900 1200]\n",
      " [   0  400  800 1200 1600]]\n",
      "Using Einsum: \n",
      " [[   0    0    0    0    0]\n",
      " [   0  100  200  300  400]\n",
      " [   0  200  400  600  800]\n",
      " [   0  300  600  900 1200]\n",
      " [   0  400  800 1200 1600]]\n"
     ]
    }
   ],
   "source": [
    "u = np.array(range(5))\n",
    "v = u * 100\n",
    "print('u = ', u, ' v = ', v)\n",
    "print('Using outer: \\n', np.outer(u,v))\n",
    "print('Using Einsum: \\n', np.einsum('i,j->ij',u,v))"
   ]
  },
  {
   "cell_type": "markdown",
   "metadata": {},
   "source": [
    "Multiplying corresponding elements in two arrays and returning the product array"
   ]
  },
  {
   "cell_type": "code",
   "execution_count": 8,
   "metadata": {},
   "outputs": [
    {
     "name": "stdout",
     "output_type": "stream",
     "text": [
      "m = \n",
      " [[[ 0  1  2  3]\n",
      "  [ 4  5  6  7]\n",
      "  [ 8  9 10 11]]\n",
      "\n",
      " [[12 13 14 15]\n",
      "  [16 17 18 19]\n",
      "  [20 21 22 23]]]\n",
      "m * m = \n",
      " [[[  0   1   4   9]\n",
      "  [ 16  25  36  49]\n",
      "  [ 64  81 100 121]]\n",
      "\n",
      " [[144 169 196 225]\n",
      "  [256 289 324 361]\n",
      "  [400 441 484 529]]]\n",
      "With einsum: \n",
      " [[[  0   1   4   9]\n",
      "  [ 16  25  36  49]\n",
      "  [ 64  81 100 121]]\n",
      "\n",
      " [[144 169 196 225]\n",
      "  [256 289 324 361]\n",
      "  [400 441 484 529]]]\n"
     ]
    }
   ],
   "source": [
    "print('m = \\n', m)\n",
    "print('m * m = \\n', m*m)\n",
    "print('With einsum: \\n', np.einsum('ijk,ijk->ijk',m,m))"
   ]
  },
  {
   "cell_type": "markdown",
   "metadata": {},
   "source": [
    "Multiplying all elements along one axis of an array with corresponding elements in a vector:"
   ]
  },
  {
   "cell_type": "code",
   "execution_count": 9,
   "metadata": {},
   "outputs": [
    {
     "name": "stdout",
     "output_type": "stream",
     "text": [
      "shape of m =  (2, 3, 4)\n",
      "Multiply each sub-matrix by either -1 or 100: \n",
      " [[[   0   -1   -2   -3]\n",
      "  [  -4   -5   -6   -7]\n",
      "  [  -8   -9  -10  -11]]\n",
      "\n",
      " [[1200 1300 1400 1500]\n",
      "  [1600 1700 1800 1900]\n",
      "  [2000 2100 2200 2300]]]\n",
      "Multiply rows of each sub-matrix by either 1, 100 or 10000: \n",
      " [[[     0      1      2      3]\n",
      "  [   400    500    600    700]\n",
      "  [ 80000  90000 100000 110000]]\n",
      "\n",
      " [[    12     13     14     15]\n",
      "  [  1600   1700   1800   1900]\n",
      "  [200000 210000 220000 230000]]]\n"
     ]
    }
   ],
   "source": [
    "print('shape of m = ',m.shape)\n",
    "q = np.array([-1,100])\n",
    "print('Multiply each sub-matrix by either -1 or 100: \\n', np.einsum('ijk,i->ijk',m,q))\n",
    "c = np.array([1,100,10000])\n",
    "print('Multiply rows of each sub-matrix by either 1, 100 or 10000: \\n', np.einsum('ijk,j->ijk',m,c))"
   ]
  },
  {
   "cell_type": "code",
   "execution_count": null,
   "metadata": {},
   "outputs": [],
   "source": []
  }
 ],
 "metadata": {
  "kernelspec": {
   "display_name": "Python 3",
   "language": "python",
   "name": "python3"
  },
  "language_info": {
   "codemirror_mode": {
    "name": "ipython",
    "version": 3
   },
   "file_extension": ".py",
   "mimetype": "text/x-python",
   "name": "python",
   "nbconvert_exporter": "python",
   "pygments_lexer": "ipython3",
   "version": "3.10.1"
  }
 },
 "nbformat": 4,
 "nbformat_minor": 1
}
